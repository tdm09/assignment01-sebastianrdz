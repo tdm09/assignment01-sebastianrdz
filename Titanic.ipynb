{
  "nbformat": 4,
  "nbformat_minor": 0,
  "metadata": {
    "colab": {
      "name": "Titanic.ipynb",
      "provenance": [],
      "collapsed_sections": [],
      "include_colab_link": true
    },
    "kernelspec": {
      "name": "python3",
      "display_name": "Python 3"
    },
    "language_info": {
      "name": "python"
    }
  },
  "cells": [
    {
      "cell_type": "markdown",
      "metadata": {
        "id": "view-in-github",
        "colab_type": "text"
      },
      "source": [
        "<a href=\"https://colab.research.google.com/github/tdm09/assignment01-sebastianrdz/blob/main/Titanic.ipynb\" target=\"_parent\"><img src=\"https://colab.research.google.com/assets/colab-badge.svg\" alt=\"Open In Colab\"/></a>"
      ]
    },
    {
      "cell_type": "markdown",
      "source": [
        "# Titanic\n"
      ],
      "metadata": {
        "id": "1CH7QmX-CKxZ"
      }
    },
    {
      "cell_type": "markdown",
      "source": [
        "## Descripcion\n",
        "Reto de Titanic"
      ],
      "metadata": {
        "id": "TPsc0cZdCOmK"
      }
    },
    {
      "cell_type": "code",
      "source": [
        "# conectar python con google drive\n",
        "from google.colab import drive\n",
        "\n",
        "drive.mount(\"/content/gdrive\")  \n",
        "!pwd  # show current path \n",
        "# El path se cambia siempre que se vuela a abrir el archivo\n",
        "%cd \"/content/gdrive/MyDrive/Cursos/Inteligencia Artificial avanzada para la Ciencia de Datos/Contenidos de la concentración Manual del profesor/Bloque I/Desarrollo de software aplicado a la ciencia de datos/Code\"\n",
        "!ls  # show current directory\n",
        "\n",
        "# importar librerias\n",
        "import numpy as np\n",
        "import pandas as pd\n",
        "from scipy import special \n"
      ],
      "metadata": {
        "id": "Ixkk0MrOEXEY"
      },
      "execution_count": null,
      "outputs": []
    },
    {
      "cell_type": "code",
      "source": [
        "# Cambiar el path de donde se encuentran los datos\n",
        "train = pd.read_csv(\"path/titanic_train.csv\")\n",
        "test = pd.read_csv(\"path/titanic_test.csv\")"
      ],
      "metadata": {
        "id": "mpa3E7EDWtyP"
      },
      "execution_count": null,
      "outputs": []
    }
  ]
}