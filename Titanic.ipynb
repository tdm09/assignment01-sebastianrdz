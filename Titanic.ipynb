{
  "nbformat": 4,
  "nbformat_minor": 0,
  "metadata": {
    "colab": {
      "name": "Titanic.ipynb",
      "provenance": [],
      "include_colab_link": true
    },
    "kernelspec": {
      "name": "python3",
      "display_name": "Python 3"
    },
    "language_info": {
      "name": "python"
    }
  },
  "cells": [
    {
      "cell_type": "markdown",
      "metadata": {
        "id": "view-in-github",
        "colab_type": "text"
      },
      "source": [
        "<a href=\"https://colab.research.google.com/github/tdm09/assignment01-sebastianrdz/blob/main/Titanic.ipynb\" target=\"_parent\"><img src=\"https://colab.research.google.com/assets/colab-badge.svg\" alt=\"Open In Colab\"/></a>"
      ]
    },
    {
      "cell_type": "markdown",
      "source": [
        "# Titanic\n"
      ],
      "metadata": {
        "id": "1CH7QmX-CKxZ"
      }
    },
    {
      "cell_type": "markdown",
      "source": [
        "## Descripcion\n",
        "Reto de Titanic"
      ],
      "metadata": {
        "id": "TPsc0cZdCOmK"
      }
    },
    {
      "cell_type": "code",
      "source": [
        "# conectar python con google drive\n",
        "\n",
        "\n",
        "# importar librerias\n",
        "\n"
      ],
      "metadata": {
        "id": "Ixkk0MrOEXEY"
      },
      "execution_count": null,
      "outputs": []
    }
  ]
}